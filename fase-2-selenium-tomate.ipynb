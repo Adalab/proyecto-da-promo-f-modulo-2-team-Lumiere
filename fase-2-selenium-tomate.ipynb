{
 "cells": [
  {
   "cell_type": "code",
   "execution_count": 2,
   "metadata": {},
   "outputs": [],
   "source": [
    "# Importar librerías para tratamiento de datos\n",
    "# -----------------------------------------------------------------------\n",
    "import pandas as pd  # Pandas es una poderosa librería para manipulación y análisis de datos en Python.\n",
    "\n",
    "# Importar librerías para web scraping y manipulación de datos\n",
    "# -----------------------------------------------------------------------\n",
    "from bs4 import BeautifulSoup\n",
    "import requests\n",
    "\n",
    "# Importar librerías para automatización de navegadores web con Selenium\n",
    "# -----------------------------------------------------------------------\n",
    "from selenium import webdriver  # Selenium es una herramienta para automatizar la interacción con navegadores web.\n",
    "from webdriver_manager.chrome import ChromeDriverManager  # ChromeDriverManager gestiona la instalación del controlador de Chrome.\n",
    "from selenium.webdriver.common.keys import Keys  # Keys es útil para simular eventos de teclado en Selenium.\n",
    "from selenium.webdriver.support.ui import Select  # Select se utiliza para interactuar con elementos <select> en páginas web.\n",
    "\n",
    "# Importar librerías para pausar la ejecución\n",
    "import time \n",
    "from time import sleep\n",
    " # Sleep se utiliza para pausar la ejecución del programa por un número de segundos.\n",
    "from tqdm import tqdm\n",
    "# Configuraciones\n",
    "# -----------------------------------------------------------------------\n",
    "pd.set_option('display.max_columns', None)  # Establece una opción de Pandas para mostrar todas las columnas de un DataFrame.\n",
    "\n",
    "import re\n",
    "\n",
    "import openpyxl\n",
    "\n"
   ]
  },
  {
   "cell_type": "code",
   "execution_count": 26,
   "metadata": {},
   "outputs": [],
   "source": [
    "file = pd.read_excel('Romance.xlsx')\n",
    "df = pd.DataFrame(file)\n",
    "df.drop(columns=['Unnamed: 0'],inplace=True)\n",
    "pelis=[tuple(i) for i in df.values]"
   ]
  },
  {
   "cell_type": "code",
   "execution_count": 27,
   "metadata": {},
   "outputs": [
    {
     "name": "stderr",
     "output_type": "stream",
     "text": [
      "100%|██████████| 1196/1196 [1:00:59<00:00,  3.06s/it]\n"
     ]
    }
   ],
   "source": [
    "#Abrimos el Chrome\n",
    "driver = webdriver.Chrome()\n",
    "\n",
    "# Maximizar la ventana del navegador\n",
    "driver.maximize_window()\n",
    "\n",
    "#Introducimos id_peli y se busca\n",
    "lista_pelis_tomate = []\n",
    "for peli in tqdm(pelis[::10]): \n",
    "    \n",
    "        # Navegar a la página web de en Rottentomatoes \n",
    "    driver.get(\"https://www.google.com/\")\n",
    "    try:\n",
    "        cuenta=driver.find_element('css selector','#L2AGLb').click()\n",
    "        #id_peli='tt0075259' #Ejemplo, luego habrá que hacer bucles for :( \n",
    "    except:\n",
    "        pass\n",
    "    busqueda_peli = driver.find_element('css selector', '#APjFqb').send_keys(f'{peli[2]} {peli[3]} rotten tomatoes', Keys.ENTER)\n",
    "    try:\n",
    "        puntuacion_tomate= driver.find_element('css selector','#rso > div:nth-child(1) > div > div > div:nth-child(3) > div > span:nth-child(2)').text.split(' ')[1].replace('%','')\n",
    "    except:\n",
    "            puntuacion_tomate='None'\n",
    "    lista_pelis_tomate.append(puntuacion_tomate)       \n",
    "        \n",
    "\n",
    "driver.close()"
   ]
  },
  {
   "cell_type": "code",
   "execution_count": 28,
   "metadata": {},
   "outputs": [],
   "source": [
    "df_lista_tomate = pd.DataFrame(lista_pelis_tomate)\n",
    "df_lista_tomate.to_excel(\"Romance_tomate.xlsx\")"
   ]
  }
 ],
 "metadata": {
  "kernelspec": {
   "display_name": "base",
   "language": "python",
   "name": "python3"
  },
  "language_info": {
   "codemirror_mode": {
    "name": "ipython",
    "version": 3
   },
   "file_extension": ".py",
   "mimetype": "text/x-python",
   "name": "python",
   "nbconvert_exporter": "python",
   "pygments_lexer": "ipython3",
   "version": "3.9.7"
  }
 },
 "nbformat": 4,
 "nbformat_minor": 2
}
