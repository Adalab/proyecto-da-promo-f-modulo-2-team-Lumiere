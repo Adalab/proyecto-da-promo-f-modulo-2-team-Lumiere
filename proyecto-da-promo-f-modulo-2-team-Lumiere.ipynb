{
 "cells": [
  {
   "cell_type": "code",
   "execution_count": 1,
   "metadata": {},
   "outputs": [],
   "source": [
    "import requests\n",
    "import pandas as pd\n"
   ]
  },
  {
   "cell_type": "code",
   "execution_count": 4,
   "metadata": {},
   "outputs": [
    {
     "name": "stdout",
     "output_type": "stream",
     "text": [
      "{'page': 1, 'next': '/titles?startYear=1990&genre=Drama&page=2', 'entries': 10, 'results': [{'_id': '61e5c39e78c012aa3451573f', 'id': 'tt5637536', 'primaryImage': {'id': 'rm1197290240', 'width': 720, 'height': 720, 'url': 'https://m.media-amazon.com/images/M/MV5BNmM1NmY4N2QtNmVkOS00MjMyLWI5ZGUtYWYxMDRjY2MzNDdiXkEyXkFqcGdeQXVyMTAwMDAwMA@@._V1_.jpg', 'caption': {'plainText': 'Avatar: The Way of Water (2022)', '__typename': 'Markdown'}, '__typename': 'Image'}, 'titleType': {'displayableProperty': {'value': {'plainText': '', '__typename': 'Markdown'}, '__typename': 'DisplayableTitleTypeProperty'}, 'text': 'Movie', 'id': 'movie', 'isSeries': False, 'isEpisode': False, 'categories': [{'value': 'movie', '__typename': 'TitleTypeCategory'}], 'canHaveEpisodes': False, '__typename': 'TitleType'}, 'titleText': {'text': 'Avatar 5', '__typename': 'TitleText'}, 'originalTitleText': {'text': 'Avatar 5', '__typename': 'TitleText'}, 'releaseYear': {'year': 2031, 'endYear': None, '__typename': 'YearRange'}, 'releaseDate': {'day': 19, 'month': 12, 'year': 2031, '__typename': 'ReleaseDate'}}, {'_id': '61e5aac0cffb8f2faa4b6a01', 'id': 'tt15418304', 'primaryImage': None, 'titleType': {'displayableProperty': {'value': {'plainText': 'TV Episode', '__typename': 'Markdown'}, '__typename': 'DisplayableTitleTypeProperty'}, 'text': 'TV Episode', 'id': 'tvEpisode', 'isSeries': False, 'isEpisode': True, 'categories': [{'value': 'tv', '__typename': 'TitleTypeCategory'}], 'canHaveEpisodes': False, '__typename': 'TitleType'}, 'titleText': {'text': 'A Weekend in Busan', '__typename': 'TitleText'}, 'originalTitleText': {'text': 'A Weekend in Busan', '__typename': 'TitleText'}, 'releaseYear': {'year': 2030, 'endYear': None, '__typename': 'YearRange'}, 'releaseDate': {'day': None, 'month': None, 'year': None, '__typename': 'ReleaseDate'}}, {'_id': '61e5cb1b971a4a15d65328b3', 'id': 'tt15785998', 'primaryImage': None, 'titleType': {'displayableProperty': {'value': {'plainText': 'TV Episode', '__typename': 'Markdown'}, '__typename': 'DisplayableTitleTypeProperty'}, 'text': 'TV Episode', 'id': 'tvEpisode', 'isSeries': False, 'isEpisode': True, 'categories': [{'value': 'tv', '__typename': 'TitleTypeCategory'}], 'canHaveEpisodes': False, '__typename': 'TitleType'}, 'titleText': {'text': 'Francophoney', '__typename': 'TitleText'}, 'originalTitleText': {'text': 'Francophoney', '__typename': 'TitleText'}, 'releaseYear': {'year': 2030, 'endYear': None, '__typename': 'YearRange'}, 'releaseDate': {'day': None, 'month': None, 'year': 2030, '__typename': 'ReleaseDate'}}, {'_id': '61e5cdf4a66e59642353cb7d', 'id': 'tt15785988', 'primaryImage': None, 'titleType': {'displayableProperty': {'value': {'plainText': 'TV Episode', '__typename': 'Markdown'}, '__typename': 'DisplayableTitleTypeProperty'}, 'text': 'TV Episode', 'id': 'tvEpisode', 'isSeries': False, 'isEpisode': True, 'categories': [{'value': 'tv', '__typename': 'TitleTypeCategory'}], 'canHaveEpisodes': False, '__typename': 'TitleType'}, 'titleText': {'text': 'The Story of Mui', '__typename': 'TitleText'}, 'originalTitleText': {'text': 'The Story of Mui', '__typename': 'TitleText'}, 'releaseYear': {'year': 2030, 'endYear': None, '__typename': 'YearRange'}, 'releaseDate': {'day': None, 'month': None, 'year': 2030, '__typename': 'ReleaseDate'}}, {'_id': '61e5d097a66e596423546d99', 'id': 'tt15785968', 'primaryImage': None, 'titleType': {'displayableProperty': {'value': {'plainText': 'TV Episode', '__typename': 'Markdown'}, '__typename': 'DisplayableTitleTypeProperty'}, 'text': 'TV Episode', 'id': 'tvEpisode', 'isSeries': False, 'isEpisode': True, 'categories': [{'value': 'tv', '__typename': 'TitleTypeCategory'}], 'canHaveEpisodes': False, '__typename': 'TitleType'}, 'titleText': {'text': 'Make New Friends But Keep the Old', '__typename': 'TitleText'}, 'originalTitleText': {'text': 'Make New Friends But Keep the Old', '__typename': 'TitleText'}, 'releaseYear': {'year': 2030, 'endYear': None, '__typename': 'YearRange'}, 'releaseDate': {'day': None, 'month': None, 'year': 2030, '__typename': 'ReleaseDate'}}, {'_id': '61e5d238d735dff3f954d7bd', 'id': 'tt15785986', 'primaryImage': None, 'titleType': {'displayableProperty': {'value': {'plainText': 'TV Episode', '__typename': 'Markdown'}, '__typename': 'DisplayableTitleTypeProperty'}, 'text': 'TV Episode', 'id': 'tvEpisode', 'isSeries': False, 'isEpisode': True, 'categories': [{'value': 'tv', '__typename': 'TitleTypeCategory'}], 'canHaveEpisodes': False, '__typename': 'TitleType'}, 'titleText': {'text': 'The Story of Jovan', '__typename': 'TitleText'}, 'originalTitleText': {'text': 'The Story of Jovan', '__typename': 'TitleText'}, 'releaseYear': {'year': 2030, 'endYear': None, '__typename': 'YearRange'}, 'releaseDate': {'day': None, 'month': None, 'year': 2030, '__typename': 'ReleaseDate'}}, {'_id': '61e5d461971a4a15d655618f', 'id': 'tt15785946', 'primaryImage': None, 'titleType': {'displayableProperty': {'value': {'plainText': 'TV Episode', '__typename': 'Markdown'}, '__typename': 'DisplayableTitleTypeProperty'}, 'text': 'TV Episode', 'id': 'tvEpisode', 'isSeries': False, 'isEpisode': True, 'categories': [{'value': 'tv', '__typename': 'TitleTypeCategory'}], 'canHaveEpisodes': False, '__typename': 'TitleType'}, 'titleText': {'text': 'Welcome to the Kyriarchy', '__typename': 'TitleText'}, 'originalTitleText': {'text': 'Welcome to the Kyriarchy', '__typename': 'TitleText'}, 'releaseYear': {'year': 2030, 'endYear': None, '__typename': 'YearRange'}, 'releaseDate': {'day': None, 'month': None, 'year': 2030, '__typename': 'ReleaseDate'}}, {'_id': '61e5d93778c012aa34568c4f', 'id': 'tt15785976', 'primaryImage': None, 'titleType': {'displayableProperty': {'value': {'plainText': 'TV Episode', '__typename': 'Markdown'}, '__typename': 'DisplayableTitleTypeProperty'}, 'text': 'TV Episode', 'id': 'tvEpisode', 'isSeries': False, 'isEpisode': True, 'categories': [{'value': 'tv', '__typename': 'TitleTypeCategory'}], 'canHaveEpisodes': False, '__typename': 'TitleType'}, 'titleText': {'text': 'Interreligious Dialogue', '__typename': 'TitleText'}, 'originalTitleText': {'text': 'Interreligious Dialogue', '__typename': 'TitleText'}, 'releaseYear': {'year': 2030, 'endYear': None, '__typename': 'YearRange'}, 'releaseDate': {'day': None, 'month': None, 'year': 2030, '__typename': 'ReleaseDate'}}, {'_id': '61e5d9bdb597b91eb956ae09', 'id': 'tt15785980', 'primaryImage': None, 'titleType': {'displayableProperty': {'value': {'plainText': 'TV Episode', '__typename': 'Markdown'}, '__typename': 'DisplayableTitleTypeProperty'}, 'text': 'TV Episode', 'id': 'tvEpisode', 'isSeries': False, 'isEpisode': True, 'categories': [{'value': 'tv', '__typename': 'TitleTypeCategory'}], 'canHaveEpisodes': False, '__typename': 'TitleType'}, 'titleText': {'text': 'Do You Wanna Be Friends?', '__typename': 'TitleText'}, 'originalTitleText': {'text': 'Do You Wanna Be Friends?', '__typename': 'TitleText'}, 'releaseYear': {'year': 2030, 'endYear': None, '__typename': 'YearRange'}, 'releaseDate': {'day': None, 'month': None, 'year': 2030, '__typename': 'ReleaseDate'}}, {'_id': '651085953699060a9fd912ad', 'id': 'tt29277253', 'primaryImage': {'id': 'rm962417153', 'width': 683, 'height': 1024, 'url': 'https://m.media-amazon.com/images/M/MV5BZGQyYmVlZmItNzAzMi00NDA0LWFlN2MtNzBiYTNkOWZhNWQwXkEyXkFqcGdeQXVyMTY0MTIwMzc5._V1_.jpg', 'caption': {'plainText': \"Mrs. Rosa's European Vacation (2029)\", '__typename': 'Markdown'}, '__typename': 'Image'}, 'titleType': {'displayableProperty': {'value': {'plainText': 'Short', '__typename': 'Markdown'}, '__typename': 'DisplayableTitleTypeProperty'}, 'text': 'Short', 'id': 'short', 'isSeries': False, 'isEpisode': False, 'categories': [{'value': 'movie', '__typename': 'TitleTypeCategory'}], 'canHaveEpisodes': False, '__typename': 'TitleType'}, 'titleText': {'text': \"Mrs. Rosa's European Vacation\", '__typename': 'TitleText'}, 'originalTitleText': {'text': \"Mrs. Rosa's European Vacation\", '__typename': 'TitleText'}, 'releaseYear': {'year': 2029, 'endYear': None, '__typename': 'YearRange'}, 'releaseDate': {'day': 29, 'month': 11, 'year': 2029, '__typename': 'ReleaseDate'}}]}\n"
     ]
    }
   ],
   "source": [
    "import requests\n",
    "\n",
    "url = \"https://moviesdatabase.p.rapidapi.com/titles\"\n",
    "\n",
    "#LA PRIMERA LETRA DEL GÉNERO TIENE QUE ESTAR EN MAYUS\n",
    "\n",
    "querystring = {\"genre\":\"Drama\",\"startYear\":\"1990\"}\n",
    "\n",
    "headers = {\n",
    "\t\"X-RapidAPI-Key\": \"238e147571msh88317d3edc9d80dp16bbe0jsnf670c5d1b1c7\",\n",
    "\t\"X-RapidAPI-Host\": \"moviesdatabase.p.rapidapi.com\"\n",
    "}\n",
    "\n",
    "response = requests.get(url, headers=headers, params=querystring)\n",
    "\n",
    "print(response.json())"
   ]
  },
  {
   "cell_type": "code",
   "execution_count": 6,
   "metadata": {},
   "outputs": [
    {
     "data": {
      "text/plain": [
       "200"
      ]
     },
     "execution_count": 6,
     "metadata": {},
     "output_type": "execute_result"
    }
   ],
   "source": [
    "response.status_code"
   ]
  },
  {
   "cell_type": "code",
   "execution_count": null,
   "metadata": {},
   "outputs": [],
   "source": []
  }
 ],
 "metadata": {
  "kernelspec": {
   "display_name": "base",
   "language": "python",
   "name": "python3"
  },
  "language_info": {
   "codemirror_mode": {
    "name": "ipython",
    "version": 3
   },
   "file_extension": ".py",
   "mimetype": "text/x-python",
   "name": "python",
   "nbconvert_exporter": "python",
   "pygments_lexer": "ipython3",
   "version": "3.9.7"
  }
 },
 "nbformat": 4,
 "nbformat_minor": 2
}
