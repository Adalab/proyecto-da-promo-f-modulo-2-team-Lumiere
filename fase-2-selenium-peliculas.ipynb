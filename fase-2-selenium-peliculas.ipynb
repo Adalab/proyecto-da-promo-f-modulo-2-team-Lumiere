{
 "cells": [
  {
   "cell_type": "markdown",
   "metadata": {},
   "source": [
    "# Fase 2: Extracción de Detalles de Películas con Selenium\n",
    "Una vez que tengan una lista de películas de la API, el siguiente paso es obtener información más detallada sobre ellas. Utilizaras la herramienta de automatización web Selenium para navegar a sitios web de reseñas de películas (IMDB y Rotten Tomatoes) y extraer detalles como calificaciones, actores y directores. En concreto deberás extraer información sobre:\n",
    "- Puntuacion de IMDB (en caso de que la tenga).\n",
    "- Puntuación de Rotten Tomatoes (Tomatometer).\n",
    "- Dirección (director/a o directore/as de cada película).\n",
    "- Guionistas (de cada película).\n",
    "- Argumento.\n",
    "- Duración (en minutos).\n",
    "- Nombre de la película\n",
    "NOTA: La información de la API deberá ser almacenada en una lista de tuplas. Cada tupla corresponderá a una película. Siguiendo el siguiente ejemplo:\n",
    "\n",
    "[(7.7, 77,  \"Richard Donner\", [\"Chris ColumbusSteven\", \"Spielberg\"], \"Los Goonies son un grupo de amigos que viven en Goon Docks, Astoria, pero sus casas han sido compradas y van a ser demolidas. Sin embargo, vivirán su última aventura en busca de un tesoro que pueda salvar el barrio.\", \"Aventura\", \"1h 54min\", \"Los Gonnies\"),  ...]"
   ]
  },
  {
   "cell_type": "code",
   "execution_count": 1,
   "metadata": {},
   "outputs": [],
   "source": [
    "# Importar librerías para tratamiento de datos\n",
    "# -----------------------------------------------------------------------\n",
    "import pandas as pd  # Pandas es una poderosa librería para manipulación y análisis de datos en Python.\n",
    "\n",
    "# Importar librerías para web scraping y manipulación de datos\n",
    "# -----------------------------------------------------------------------\n",
    "from bs4 import BeautifulSoup\n",
    "import requests\n",
    "\n",
    "# Importar librerías para automatización de navegadores web con Selenium\n",
    "# -----------------------------------------------------------------------\n",
    "from selenium import webdriver  # Selenium es una herramienta para automatizar la interacción con navegadores web.\n",
    "from webdriver_manager.chrome import ChromeDriverManager  # ChromeDriverManager gestiona la instalación del controlador de Chrome.\n",
    "from selenium.webdriver.common.keys import Keys  # Keys es útil para simular eventos de teclado en Selenium.\n",
    "from selenium.webdriver.support.ui import Select  # Select se utiliza para interactuar con elementos <select> en páginas web.\n",
    "\n",
    "# Importar librerías para pausar la ejecución\n",
    "# -----------------------------------------------------------------------\n",
    "from time import sleep  # Sleep se utiliza para pausar la ejecución del programa por un número de segundos.\n",
    "\n",
    "# Configuraciones\n",
    "# -----------------------------------------------------------------------\n",
    "pd.set_option('display.max_columns', None)  # Establece una opción de Pandas para mostrar todas las columnas de un DataFrame."
   ]
  },
  {
   "cell_type": "code",
   "execution_count": 33,
   "metadata": {},
   "outputs": [
    {
     "ename": "NoSuchElementException",
     "evalue": "Message: no such element: Unable to locate element: {\"method\":\"xpath\",\"selector\":\"//*[@id=\"scoreboard\"]//div/div[2]/div[1]\"}\n  (Session info: chrome=118.0.5993.118); For documentation on this error, please visit: https://www.selenium.dev/documentation/webdriver/troubleshooting/errors#no-such-element-exception\nStacktrace:\n\tGetHandleVerifier [0x00007FF69E908EF2+54786]\n\t(No symbol) [0x00007FF69E875612]\n\t(No symbol) [0x00007FF69E72A64B]\n\t(No symbol) [0x00007FF69E76B79C]\n\t(No symbol) [0x00007FF69E76B91C]\n\t(No symbol) [0x00007FF69E7A6D87]\n\t(No symbol) [0x00007FF69E78BEAF]\n\t(No symbol) [0x00007FF69E7A4D02]\n\t(No symbol) [0x00007FF69E78BC43]\n\t(No symbol) [0x00007FF69E760941]\n\t(No symbol) [0x00007FF69E761B84]\n\tGetHandleVerifier [0x00007FF69EC57F52+3524194]\n\tGetHandleVerifier [0x00007FF69ECAD800+3874576]\n\tGetHandleVerifier [0x00007FF69ECA5D7F+3843215]\n\tGetHandleVerifier [0x00007FF69E9A5086+694166]\n\t(No symbol) [0x00007FF69E880A88]\n\t(No symbol) [0x00007FF69E87CA94]\n\t(No symbol) [0x00007FF69E87CBC2]\n\t(No symbol) [0x00007FF69E86CC83]\n\tBaseThreadInitThunk [0x00007FF889DA257D+29]\n\tRtlUserThreadStart [0x00007FF88B9AAA58+40]\n",
     "output_type": "error",
     "traceback": [
      "\u001b[1;31m---------------------------------------------------------------------------\u001b[0m",
      "\u001b[1;31mNoSuchElementException\u001b[0m                    Traceback (most recent call last)",
      "\u001b[1;32mc:\\Users\\salsi\\OneDrive\\Escritorio\\adalab\\Módulo 2\\Proyecto\\proyecto-da-promo-f-modulo-2-team-Lumiere\\fase-2-selenium-peliculas.ipynb Cell 3\u001b[0m line \u001b[0;36m5\n\u001b[0;32m     <a href='vscode-notebook-cell:/c%3A/Users/salsi/OneDrive/Escritorio/adalab/M%C3%B3dulo%202/Proyecto/proyecto-da-promo-f-modulo-2-team-Lumiere/fase-2-selenium-peliculas.ipynb#W2sZmlsZQ%3D%3D?line=51'>52</a>\u001b[0m driver\u001b[39m.\u001b[39mexecute_script(\u001b[39m'\u001b[39m\u001b[39mwindow.scrollTo(0,300)\u001b[39m\u001b[39m'\u001b[39m)\n\u001b[0;32m     <a href='vscode-notebook-cell:/c%3A/Users/salsi/OneDrive/Escritorio/adalab/M%C3%B3dulo%202/Proyecto/proyecto-da-promo-f-modulo-2-team-Lumiere/fase-2-selenium-peliculas.ipynb#W2sZmlsZQ%3D%3D?line=52'>53</a>\u001b[0m sleep(\u001b[39m3\u001b[39m)\n\u001b[1;32m---> <a href='vscode-notebook-cell:/c%3A/Users/salsi/OneDrive/Escritorio/adalab/M%C3%B3dulo%202/Proyecto/proyecto-da-promo-f-modulo-2-team-Lumiere/fase-2-selenium-peliculas.ipynb#W2sZmlsZQ%3D%3D?line=54'>55</a>\u001b[0m tomato\u001b[39m=\u001b[39mdriver\u001b[39m.\u001b[39;49mfind_element(\u001b[39m'\u001b[39;49m\u001b[39mxpath\u001b[39;49m\u001b[39m'\u001b[39;49m,\u001b[39m'\u001b[39;49m\u001b[39m//*[@id=\u001b[39;49m\u001b[39m\"\u001b[39;49m\u001b[39mscoreboard\u001b[39;49m\u001b[39m\"\u001b[39;49m\u001b[39m]//div/div[2]/div[1]\u001b[39;49m\u001b[39m'\u001b[39;49m)\u001b[39m.\u001b[39mclick()\n\u001b[0;32m     <a href='vscode-notebook-cell:/c%3A/Users/salsi/OneDrive/Escritorio/adalab/M%C3%B3dulo%202/Proyecto/proyecto-da-promo-f-modulo-2-team-Lumiere/fase-2-selenium-peliculas.ipynb#W2sZmlsZQ%3D%3D?line=55'>56</a>\u001b[0m tomato_punto\u001b[39m=\u001b[39mdriver\u001b[39m.\u001b[39mfind_element(\u001b[39m'\u001b[39m\u001b[39mcss selector\u001b[39m\u001b[39m'\u001b[39m,\u001b[39m'\u001b[39m\u001b[39mdiv > span.percentage\u001b[39m\u001b[39m'\u001b[39m)\u001b[39m.\u001b[39mtext\n\u001b[0;32m     <a href='vscode-notebook-cell:/c%3A/Users/salsi/OneDrive/Escritorio/adalab/M%C3%B3dulo%202/Proyecto/proyecto-da-promo-f-modulo-2-team-Lumiere/fase-2-selenium-peliculas.ipynb#W2sZmlsZQ%3D%3D?line=56'>57</a>\u001b[0m \u001b[39mprint\u001b[39m(tomato_punto)\n",
      "File \u001b[1;32m~\\AppData\\Local\\Packages\\PythonSoftwareFoundation.Python.3.11_qbz5n2kfra8p0\\LocalCache\\local-packages\\Python311\\site-packages\\selenium\\webdriver\\remote\\webdriver.py:738\u001b[0m, in \u001b[0;36mWebDriver.find_element\u001b[1;34m(self, by, value)\u001b[0m\n\u001b[0;32m    735\u001b[0m     by \u001b[39m=\u001b[39m By\u001b[39m.\u001b[39mCSS_SELECTOR\n\u001b[0;32m    736\u001b[0m     value \u001b[39m=\u001b[39m \u001b[39mf\u001b[39m\u001b[39m'\u001b[39m\u001b[39m[name=\u001b[39m\u001b[39m\"\u001b[39m\u001b[39m{\u001b[39;00mvalue\u001b[39m}\u001b[39;00m\u001b[39m\"\u001b[39m\u001b[39m]\u001b[39m\u001b[39m'\u001b[39m\n\u001b[1;32m--> 738\u001b[0m \u001b[39mreturn\u001b[39;00m \u001b[39mself\u001b[39;49m\u001b[39m.\u001b[39;49mexecute(Command\u001b[39m.\u001b[39;49mFIND_ELEMENT, {\u001b[39m\"\u001b[39;49m\u001b[39musing\u001b[39;49m\u001b[39m\"\u001b[39;49m: by, \u001b[39m\"\u001b[39;49m\u001b[39mvalue\u001b[39;49m\u001b[39m\"\u001b[39;49m: value})[\u001b[39m\"\u001b[39m\u001b[39mvalue\u001b[39m\u001b[39m\"\u001b[39m]\n",
      "File \u001b[1;32m~\\AppData\\Local\\Packages\\PythonSoftwareFoundation.Python.3.11_qbz5n2kfra8p0\\LocalCache\\local-packages\\Python311\\site-packages\\selenium\\webdriver\\remote\\webdriver.py:344\u001b[0m, in \u001b[0;36mWebDriver.execute\u001b[1;34m(self, driver_command, params)\u001b[0m\n\u001b[0;32m    342\u001b[0m response \u001b[39m=\u001b[39m \u001b[39mself\u001b[39m\u001b[39m.\u001b[39mcommand_executor\u001b[39m.\u001b[39mexecute(driver_command, params)\n\u001b[0;32m    343\u001b[0m \u001b[39mif\u001b[39;00m response:\n\u001b[1;32m--> 344\u001b[0m     \u001b[39mself\u001b[39;49m\u001b[39m.\u001b[39;49merror_handler\u001b[39m.\u001b[39;49mcheck_response(response)\n\u001b[0;32m    345\u001b[0m     response[\u001b[39m\"\u001b[39m\u001b[39mvalue\u001b[39m\u001b[39m\"\u001b[39m] \u001b[39m=\u001b[39m \u001b[39mself\u001b[39m\u001b[39m.\u001b[39m_unwrap_value(response\u001b[39m.\u001b[39mget(\u001b[39m\"\u001b[39m\u001b[39mvalue\u001b[39m\u001b[39m\"\u001b[39m, \u001b[39mNone\u001b[39;00m))\n\u001b[0;32m    346\u001b[0m     \u001b[39mreturn\u001b[39;00m response\n",
      "File \u001b[1;32m~\\AppData\\Local\\Packages\\PythonSoftwareFoundation.Python.3.11_qbz5n2kfra8p0\\LocalCache\\local-packages\\Python311\\site-packages\\selenium\\webdriver\\remote\\errorhandler.py:229\u001b[0m, in \u001b[0;36mErrorHandler.check_response\u001b[1;34m(self, response)\u001b[0m\n\u001b[0;32m    227\u001b[0m         alert_text \u001b[39m=\u001b[39m value[\u001b[39m\"\u001b[39m\u001b[39malert\u001b[39m\u001b[39m\"\u001b[39m]\u001b[39m.\u001b[39mget(\u001b[39m\"\u001b[39m\u001b[39mtext\u001b[39m\u001b[39m\"\u001b[39m)\n\u001b[0;32m    228\u001b[0m     \u001b[39mraise\u001b[39;00m exception_class(message, screen, stacktrace, alert_text)  \u001b[39m# type: ignore[call-arg]  # mypy is not smart enough here\u001b[39;00m\n\u001b[1;32m--> 229\u001b[0m \u001b[39mraise\u001b[39;00m exception_class(message, screen, stacktrace)\n",
      "\u001b[1;31mNoSuchElementException\u001b[0m: Message: no such element: Unable to locate element: {\"method\":\"xpath\",\"selector\":\"//*[@id=\"scoreboard\"]//div/div[2]/div[1]\"}\n  (Session info: chrome=118.0.5993.118); For documentation on this error, please visit: https://www.selenium.dev/documentation/webdriver/troubleshooting/errors#no-such-element-exception\nStacktrace:\n\tGetHandleVerifier [0x00007FF69E908EF2+54786]\n\t(No symbol) [0x00007FF69E875612]\n\t(No symbol) [0x00007FF69E72A64B]\n\t(No symbol) [0x00007FF69E76B79C]\n\t(No symbol) [0x00007FF69E76B91C]\n\t(No symbol) [0x00007FF69E7A6D87]\n\t(No symbol) [0x00007FF69E78BEAF]\n\t(No symbol) [0x00007FF69E7A4D02]\n\t(No symbol) [0x00007FF69E78BC43]\n\t(No symbol) [0x00007FF69E760941]\n\t(No symbol) [0x00007FF69E761B84]\n\tGetHandleVerifier [0x00007FF69EC57F52+3524194]\n\tGetHandleVerifier [0x00007FF69ECAD800+3874576]\n\tGetHandleVerifier [0x00007FF69ECA5D7F+3843215]\n\tGetHandleVerifier [0x00007FF69E9A5086+694166]\n\t(No symbol) [0x00007FF69E880A88]\n\t(No symbol) [0x00007FF69E87CA94]\n\t(No symbol) [0x00007FF69E87CBC2]\n\t(No symbol) [0x00007FF69E86CC83]\n\tBaseThreadInitThunk [0x00007FF889DA257D+29]\n\tRtlUserThreadStart [0x00007FF88B9AAA58+40]\n"
     ]
    }
   ],
   "source": [
    "#Abrimos el Chrome\n",
    "driver=webdriver.Chrome()\n",
    "\n",
    "# Maximizar la ventana del navegador\n",
    "driver.maximize_window()\n",
    "\n",
    "'''# Navegar a la página web de IMDB \n",
    "driver.get(\"https://www.imdb.com\")\n",
    "\n",
    "#Quitamos lo de la cuenta\n",
    "cuenta=driver.find_element('css selector','#imdbHeader > div.ipc-page-content-container.ipc-page-content-container--center.navbar__inner > div.nav__userMenu.navbar__user.sc-jfTVlA.esWGB > div > div > div > div > div.sc-cOxWqc.bNDQpU > button > svg').click()\n",
    "\n",
    "#Introducimos id_peli y se busca\n",
    "id_peli='tt0075259' #Ejemplo, luego habrá que hacer bucles for :( \n",
    "busqueda_peli=driver.find_element('css selector', '#suggestion-search').send_keys(id_peli, Keys.ENTER)\n",
    "\n",
    "puntuacion=driver.find_element('css selector','#__next > main > div > section.ipc-page-background.ipc-page-background--base.sc-304f99f6-0.eaRXHu > section > div:nth-child(4) > section > section > div.sc-e226b0e3-3.jJsEuz > div.sc-3a4309f8-0.fjtZsE.sc-dffc6c81-1.fJrHDo > div > div:nth-child(1) > a > span > div > div.sc-bde20123-0.gtEgaf > div.sc-bde20123-2.gYgHoj > span.sc-bde20123-1.iZlgcd').text\n",
    "print(puntuacion)\n",
    "\n",
    "direccion=driver.find_element('css selector','#__next > main > div > section.ipc-page-background.ipc-page-background--base.sc-304f99f6-0.eaRXHu > section > div:nth-child(4) > section > section > div.sc-e226b0e3-4.fjlSjH > div.sc-e226b0e3-6.ktaZPG > div.sc-e226b0e3-10.bALQos > section > div.sc-dffc6c81-3.jFHENY > div > ul > li:nth-child(1) > div').text\n",
    "print(direccion)\n",
    "\n",
    "guion=driver.find_element('css selector','#__next > main > div > section.ipc-page-background.ipc-page-background--base.sc-304f99f6-0.eaRXHu > section > div:nth-child(4) > section > section > div.sc-e226b0e3-4.fjlSjH > div.sc-e226b0e3-6.ktaZPG > div.sc-e226b0e3-10.bALQos > section > div.sc-dffc6c81-3.jFHENY > div > ul > li:nth-child(2) > div').text\n",
    "print(guion)\n",
    "\n",
    "argumento=driver.find_element('css selector','#__next > main > div > section.ipc-page-background.ipc-page-background--base.sc-304f99f6-0.eaRXHu > section > div:nth-child(4) > section > section > div.sc-e226b0e3-4.fjlSjH > div.sc-e226b0e3-6.ktaZPG > div.sc-e226b0e3-10.bALQos > section > p > span.sc-466bb6c-2.eVLpWt').text\n",
    "print(argumento)\n",
    "\n",
    "duracion=driver.find_element('css selector','#__next > main > div > section.ipc-page-background.ipc-page-background--base.sc-304f99f6-0.eaRXHu > section > div:nth-child(4) > section > section > div.sc-e226b0e3-3.jJsEuz > div.sc-dffc6c81-0.iwmAVw > ul > li:nth-child(2)').text\n",
    "print(duracion)\n",
    "\n",
    "#Podemos cogerlo también del dataFrame, igual que el id\n",
    "titulo=driver.find_element('css selector','#__next > main > div > section.ipc-page-background.ipc-page-background--base.sc-304f99f6-0.eaRXHu > section > div:nth-child(4) > section > section > div.sc-e226b0e3-3.jJsEuz > div.sc-dffc6c81-0.iwmAVw > h1').text\n",
    "print(titulo)'''\n",
    "\n",
    "# Navegar a la página web de IMDB \n",
    "driver.get(\"https://www.rottentomatoes.com/\")\n",
    "\n",
    "#Cerrar cookies\n",
    "cookies=driver.find_element('css selector','#onetrust-accept-btn-handler').click()\n",
    "\n",
    "#Buscar peli \n",
    "titulo_peli='Star Wars: Episode VII - The Force Awakens' #Ejemplo, luego habrá que hacer bucles for :( \n",
    "busqueda_peli_tomates=driver.find_element('css selector', '#header-main > search-algolia > search-algolia-controls > input').send_keys(titulo_peli, Keys.ENTER)\n",
    "\n",
    "driver.execute_script('window.scrollTo(0,300)')\n",
    "\n",
    "sleep(3)\n",
    "\n",
    "entrar_peli=driver.find_element('css selector','#search-results > search-page-result:nth-child(3) > ul > search-page-media-row:nth-child(1) > a:nth-child(2)').click()\n",
    "\n",
    "driver.execute_script('window.scrollTo(0,300)')\n",
    "sleep(3)\n",
    "\n",
    "tomato=driver.find_element('xpath','//*[@id=\"scoreboard\"]//div/div[2]/div[1]').click()\n",
    "tomato_punto=driver.find_element('css selector','div > span.percentage').text\n",
    "print(tomato_punto)\n"
   ]
  }
 ],
 "metadata": {
  "kernelspec": {
   "display_name": "Python 3",
   "language": "python",
   "name": "python3"
  },
  "language_info": {
   "codemirror_mode": {
    "name": "ipython",
    "version": 3
   },
   "file_extension": ".py",
   "mimetype": "text/x-python",
   "name": "python",
   "nbconvert_exporter": "python",
   "pygments_lexer": "ipython3",
   "version": "3.11.6"
  }
 },
 "nbformat": 4,
 "nbformat_minor": 2
}
