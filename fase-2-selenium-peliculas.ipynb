{
 "cells": [
  {
   "cell_type": "markdown",
   "metadata": {},
   "source": [
    "# Fase 2: Extracción de Detalles de Películas con Selenium\n",
    "Una vez que tengan una lista de películas de la API, el siguiente paso es obtener información más detallada sobre ellas. Utilizaras la herramienta de automatización web Selenium para navegar a sitios web de reseñas de películas (IMDB y Rotten Tomatoes) y extraer detalles como calificaciones, actores y directores. En concreto deberás extraer información sobre:\n",
    "- Puntuacion de IMDB (en caso de que la tenga).\n",
    "- Puntuación de Rotten Tomatoes (Tomatometer).\n",
    "- Dirección (director/a o directore/as de cada película).\n",
    "- Guionistas (de cada película).\n",
    "- Argumento.\n",
    "- Duración (en minutos).\n",
    "- Nombre de la película\n",
    "NOTA: La información de la API deberá ser almacenada en una lista de tuplas. Cada tupla corresponderá a una película. Siguiendo el siguiente ejemplo:\n",
    "\n",
    "[(7.7, 77,  \"Richard Donner\", [\"Chris ColumbusSteven\", \"Spielberg\"], \"Los Goonies son un grupo de amigos que viven en Goon Docks, Astoria, pero sus casas han sido compradas y van a ser demolidas. Sin embargo, vivirán su última aventura en busca de un tesoro que pueda salvar el barrio.\", \"Aventura\", \"1h 54min\", \"Los Gonnies\"),  ...]"
   ]
  },
  {
   "cell_type": "code",
   "execution_count": 1,
   "metadata": {},
   "outputs": [
    {
     "name": "stdout",
     "output_type": "stream",
     "text": [
      "Requirement already satisfied: beautifulsoup4 in /opt/anaconda3/envs/clase/lib/python3.9/site-packages (4.12.2)\n",
      "Requirement already satisfied: soupsieve>1.2 in /opt/anaconda3/envs/clase/lib/python3.9/site-packages (from beautifulsoup4) (2.5)\n",
      "Requirement already satisfied: selenium in /opt/anaconda3/envs/clase/lib/python3.9/site-packages (4.15.2)\n",
      "Requirement already satisfied: urllib3<3,>=1.26 in /opt/anaconda3/envs/clase/lib/python3.9/site-packages (from urllib3[socks]<3,>=1.26->selenium) (2.0.7)\n",
      "Requirement already satisfied: trio~=0.17 in /opt/anaconda3/envs/clase/lib/python3.9/site-packages (from selenium) (0.23.1)\n",
      "Requirement already satisfied: trio-websocket~=0.9 in /opt/anaconda3/envs/clase/lib/python3.9/site-packages (from selenium) (0.11.1)\n",
      "Requirement already satisfied: certifi>=2021.10.8 in /opt/anaconda3/envs/clase/lib/python3.9/site-packages (from selenium) (2023.7.22)\n",
      "Requirement already satisfied: attrs>=20.1.0 in /opt/anaconda3/envs/clase/lib/python3.9/site-packages (from trio~=0.17->selenium) (23.1.0)\n",
      "Requirement already satisfied: sortedcontainers in /opt/anaconda3/envs/clase/lib/python3.9/site-packages (from trio~=0.17->selenium) (2.4.0)\n",
      "Requirement already satisfied: idna in /opt/anaconda3/envs/clase/lib/python3.9/site-packages (from trio~=0.17->selenium) (3.4)\n",
      "Requirement already satisfied: outcome in /opt/anaconda3/envs/clase/lib/python3.9/site-packages (from trio~=0.17->selenium) (1.3.0.post0)\n",
      "Requirement already satisfied: sniffio>=1.3.0 in /opt/anaconda3/envs/clase/lib/python3.9/site-packages (from trio~=0.17->selenium) (1.3.0)\n",
      "Requirement already satisfied: exceptiongroup>=1.0.0rc9 in /opt/anaconda3/envs/clase/lib/python3.9/site-packages (from trio~=0.17->selenium) (1.1.3)\n",
      "Requirement already satisfied: wsproto>=0.14 in /opt/anaconda3/envs/clase/lib/python3.9/site-packages (from trio-websocket~=0.9->selenium) (1.2.0)\n",
      "Requirement already satisfied: pysocks!=1.5.7,<2.0,>=1.5.6 in /opt/anaconda3/envs/clase/lib/python3.9/site-packages (from urllib3[socks]<3,>=1.26->selenium) (1.7.1)\n",
      "Requirement already satisfied: h11<1,>=0.9.0 in /opt/anaconda3/envs/clase/lib/python3.9/site-packages (from wsproto>=0.14->trio-websocket~=0.9->selenium) (0.14.0)\n",
      "Requirement already satisfied: webdriver-manager in /opt/anaconda3/envs/clase/lib/python3.9/site-packages (4.0.1)\n",
      "Requirement already satisfied: requests in /opt/anaconda3/envs/clase/lib/python3.9/site-packages (from webdriver-manager) (2.31.0)\n",
      "Requirement already satisfied: python-dotenv in /opt/anaconda3/envs/clase/lib/python3.9/site-packages (from webdriver-manager) (1.0.0)\n",
      "Requirement already satisfied: packaging in /opt/anaconda3/envs/clase/lib/python3.9/site-packages (from webdriver-manager) (23.2)\n",
      "Requirement already satisfied: charset-normalizer<4,>=2 in /opt/anaconda3/envs/clase/lib/python3.9/site-packages (from requests->webdriver-manager) (3.3.1)\n",
      "Requirement already satisfied: idna<4,>=2.5 in /opt/anaconda3/envs/clase/lib/python3.9/site-packages (from requests->webdriver-manager) (3.4)\n",
      "Requirement already satisfied: urllib3<3,>=1.21.1 in /opt/anaconda3/envs/clase/lib/python3.9/site-packages (from requests->webdriver-manager) (2.0.7)\n",
      "Requirement already satisfied: certifi>=2017.4.17 in /opt/anaconda3/envs/clase/lib/python3.9/site-packages (from requests->webdriver-manager) (2023.7.22)\n"
     ]
    }
   ],
   "source": [
    "!pip install beautifulsoup4\n",
    "\n",
    "!pip install selenium\n",
    "!pip install webdriver-manager"
   ]
  },
  {
   "cell_type": "code",
   "execution_count": 2,
   "metadata": {},
   "outputs": [],
   "source": [
    "# Importar librerías para tratamiento de datos\n",
    "# -----------------------------------------------------------------------\n",
    "import pandas as pd  # Pandas es una poderosa librería para manipulación y análisis de datos en Python.\n",
    "\n",
    "# Importar librerías para web scraping y manipulación de datos\n",
    "# -----------------------------------------------------------------------\n",
    "from bs4 import BeautifulSoup\n",
    "import requests\n",
    "\n",
    "# Importar librerías para automatización de navegadores web con Selenium\n",
    "# -----------------------------------------------------------------------\n",
    "from selenium import webdriver  # Selenium es una herramienta para automatizar la interacción con navegadores web.\n",
    "from webdriver_manager.chrome import ChromeDriverManager  # ChromeDriverManager gestiona la instalación del controlador de Chrome.\n",
    "from selenium.webdriver.common.keys import Keys  # Keys es útil para simular eventos de teclado en Selenium.\n",
    "from selenium.webdriver.support.ui import Select  # Select se utiliza para interactuar con elementos <select> en páginas web.\n",
    "\n",
    "# Importar librerías para pausar la ejecución\n",
    "# -----------------------------------------------------------------------\n",
    "from time import sleep  # Sleep se utiliza para pausar la ejecución del programa por un número de segundos.\n",
    "\n",
    "# Configuraciones\n",
    "# -----------------------------------------------------------------------\n",
    "pd.set_option('display.max_columns', None)  # Establece una opción de Pandas para mostrar todas las columnas de un DataFrame.\n",
    "\n",
    "import re"
   ]
  },
  {
   "cell_type": "code",
   "execution_count": 5,
   "metadata": {},
   "outputs": [],
   "source": [
    "lista_pelis = ['tt0075259', 'tt0455499', 'tt0382932']"
   ]
  },
  {
   "cell_type": "code",
   "execution_count": null,
   "metadata": {},
   "outputs": [],
   "source": [
    "#Abrimos el Chrome\n",
    "driver=webdriver.Chrome()\n",
    "\n",
    "# Maximizar la ventana del navegador\n",
    "driver.maximize_window()\n",
    "\n",
    "lista_info_pelis_final = []\n",
    "\n",
    "#Introducimos id_peli y se busca\n",
    "for id_peli in lista_pelis:\n",
    "\n",
    "    # Navegar a la página web de IMDB \n",
    "    driver.get(\"https://www.imdb.com\")\n",
    "\n",
    "    #Quitamos lo de la cuenta\n",
    "\n",
    "    try:\n",
    "        cuenta=driver.find_element('css selector','#imdbHeader > div.ipc-page-content-container.ipc-page-content-container--center.navbar__inner > div.nav__userMenu.navbar__user.sc-jfTVlA.esWGB > div > div > div > div > div.sc-cOxWqc.bNDQpU > button > svg').click()\n",
    "        #id_peli='tt0075259' #Ejemplo, luego habrá que hacer bucles for :( \n",
    "    except:\n",
    "        pass\n",
    "    lista_info_peli = []\n",
    "\n",
    "    busqueda_peli=driver.find_element('css selector', '#suggestion-search').send_keys(id_peli, Keys.ENTER)\n",
    "\n",
    "    puntuacion_imdb=driver.find_element('css selector','#__next > main > div > section.ipc-page-background.ipc-page-background--base.sc-304f99f6-0.eaRXHu > section > div:nth-child(4) > section > section > div.sc-e226b0e3-3.jJsEuz > div.sc-3a4309f8-0.fjtZsE.sc-dffc6c81-1.fJrHDo > div > div:nth-child(1) > a > span > div > div.sc-bde20123-0.gtEgaf > div.sc-bde20123-2.gYgHoj > span.sc-bde20123-1.iZlgcd').text\n",
    "    print(puntuacion_imdb)\n",
    "\n",
    "    direccion=driver.find_element('css selector','#__next > main > div > section.ipc-page-background.ipc-page-background--base.sc-304f99f6-0.eaRXHu > section > div:nth-child(4) > section > section > div.sc-e226b0e3-4.ecgcFy > div.sc-e226b0e3-6.hfusNC > div.sc-e226b0e3-10.jcOwsU > section > div.sc-dffc6c81-3.jFHENY > div > ul > li:nth-child(1) > div > ul > li').text\n",
    "    print(direccion)\n",
    "                                                  #__next > main > div > section.ipc-page-background.ipc-page-background--base.sc-304f99f6-0.eaRXHu > section > div:nth-child(4) > section > section > div.sc-e226b0e3-4.ecgcFy > div.sc-e226b0e3-6.hfusNC > div.sc-e226b0e3-10.jcOwsU > section > div.sc-dffc6c81-3.jFHENY > div > ul > li:nth-child(1) > div > ul > li > a\n",
    "                                                  #__next > main > div > section.ipc-page-background.ipc-page-background--base.sc-304f99f6-0.eaRXHu > section > div:nth-child(4) > section > section > div.sc-e226b0e3-4.ecgcFy > div.sc-e226b0e3-6.hfusNC > div.sc-e226b0e3-10.jcOwsU > section > div.sc-dffc6c81-3.jFHENY > div > ul > li:nth-child(1) > div\n",
    "    guion=driver.find_element('css selector','#__next > main > div > section.ipc-page-background.ipc-page-background--base.sc-304f99f6-0.eaRXHu > section > div:nth-child(4) > section > section > div.sc-e226b0e3-4.fjlSjH > div.sc-e226b0e3-6.ktaZPG > div.sc-e226b0e3-10.bALQos > section > div.sc-dffc6c81-3.jFHENY > div > ul > li:nth-child(2) > div').text\n",
    "    print(guion)\n",
    "\n",
    "    argumento=driver.find_element('css selector','#__next > main > div > section.ipc-page-background.ipc-page-background--base.sc-304f99f6-0.eaRXHu > section > div:nth-child(4) > section > section > div.sc-e226b0e3-4.fjlSjH > div.sc-e226b0e3-6.ktaZPG > div.sc-e226b0e3-10.bALQos > section > p > span.sc-466bb6c-2.eVLpWt').text\n",
    "    print(argumento)\n",
    "\n",
    "    duracion=driver.find_element('css selector','#__next > main > div > section.ipc-page-background.ipc-page-background--base.sc-304f99f6-0.eaRXHu > section > div:nth-child(4) > section > section > div.sc-e226b0e3-3.jJsEuz > div.sc-dffc6c81-0.iwmAVw > ul > li:nth-child(2)').text\n",
    "    print(duracion)\n",
    "\n",
    "\n",
    "\n",
    "    #Podemos cogerlo también del dataFrame, igual que el id\n",
    "    titulo=driver.find_element('css selector','#__next > main > div > section.ipc-page-background.ipc-page-background--base.sc-304f99f6-0.eaRXHu > section > div:nth-child(4) > section > section > div.sc-e226b0e3-3.jJsEuz > div.sc-dffc6c81-0.iwmAVw > h1').text\n",
    "    print(titulo)\n",
    "\n",
    "\n",
    "    # Navegar a la página web de IMDB \n",
    "    driver.get(\"https://www.rottentomatoes.com/\")\n",
    "\n",
    "    #Cerrar cookies\n",
    "    cookies=driver.find_element('css selector','#onetrust-accept-btn-handler').click()\n",
    "\n",
    "    #Buscar peli \n",
    "    #titulo_peli='Star Wars: Episode VII - The Force Awakens' #Ejemplo, luego habrá que hacer bucles for :( \n",
    "    busqueda_peli_tomates=driver.find_element('css selector', '#header-main > search-algolia > search-algolia-controls > input').send_keys(titulo, Keys.ENTER)\n",
    "\n",
    "    driver.execute_script('window.scrollTo(0,300)')\n",
    "\n",
    "    sleep(3)\n",
    "    #Capturar la url de la peli\n",
    "    url_peli = driver.find_element(\"css selector\", '#search-results > search-page-result:nth-child(3) > ul > search-page-media-row > a:nth-child(2)').get_attribute(\"href\")\n",
    "    #Entrar en la peli\n",
    "    entrar_peli=driver.find_element('css selector','#search-results > search-page-result:nth-child(3) > ul > search-page-media-row:nth-child(1) > a:nth-child(2)').click()\n",
    "    #Beautifulsoup de la peli\n",
    "    respues_peli = requests.get(url_peli)\n",
    "\n",
    "    respues_peli.status_code\n",
    "\n",
    "    sopa_peli = BeautifulSoup(respues_peli.content,\"html.parser\")\n",
    "\n",
    "    try:\n",
    "        tomate = str(sopa_peli.findAll('score-board-deprecated')[0])\n",
    "        #Regex para capturar tomatometerscore\n",
    "        tomatometer_score = re.findall('tomatometerscore=\"\\d+', tomate)\n",
    "        #Regex para capturar el valor\n",
    "        puntuacion_tomate = re.findall(\"\\d+\", tomatometer_score[0])\n",
    "    except:\n",
    "        puntuacion_tomate = \"None\"\n",
    "    lista_info_peli.append(puntuacion_imdb)\n",
    "    lista_info_peli.append(puntuacion_tomate[0])\n",
    "    lista_info_peli.append(direccion)\n",
    "    lista_info_peli.append(guion)\n",
    "    lista_info_peli.append(argumento)\n",
    "    lista_info_peli.append(duracion)\n",
    "    lista_info_peli.append(titulo)\n",
    "\n",
    "    lista_info_pelis_final.append(tuple(lista_info_peli))\n",
    "\n",
    "print(lista_info_pelis_final)\n"
   ]
  },
  {
   "cell_type": "code",
   "execution_count": 21,
   "metadata": {},
   "outputs": [
    {
     "data": {
      "text/plain": [
       "['Dirección',\n",
       " 'Tim Hill',\n",
       " 'Guión',\n",
       " 'Joel CohenAlec SokolowJim Davis',\n",
       " 'Reparto principal',\n",
       " 'Breckin MeyerJennifer Love HewittBilly Connolly']"
      ]
     },
     "execution_count": 21,
     "metadata": {},
     "output_type": "execute_result"
    }
   ],
   "source": [
    "direccion=driver.find_element(\"css selector\", '#__next > main > div > section.ipc-page-background.ipc-page-background--base.sc-304f99f6-0.eaRXHu > section > div:nth-child(4) > section > section > div.sc-e226b0e3-4.ecgcFy > div.sc-e226b0e3-6.hfusNC > div.sc-e226b0e3-10.jcOwsU > section > div.sc-dffc6c81-3.jFHENY > div').text\n",
    "direccion.split(\"\\n\")\n",
    "\n",
    "\n",
    "\n"
   ]
  }
 ],
 "metadata": {
  "kernelspec": {
   "display_name": "Python 3",
   "language": "python",
   "name": "python3"
  },
  "language_info": {
   "codemirror_mode": {
    "name": "ipython",
    "version": 3
   },
   "file_extension": ".py",
   "mimetype": "text/x-python",
   "name": "python",
   "nbconvert_exporter": "python",
   "pygments_lexer": "ipython3",
   "version": "3.9.7"
  }
 },
 "nbformat": 4,
 "nbformat_minor": 2
}
