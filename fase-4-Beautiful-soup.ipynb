{
 "cells": [
  {
   "cell_type": "markdown",
   "metadata": {},
   "source": [
    "Fase 4: Extracción de Tablas de los Premios Oscar con Beautiful Soup\n",
    "\n",
    "En esta fase, trabajarán con la biblioteca Beautiful Soup para extraer información relevante de las tablas de los premios Oscar desde 1990. La tabla la encontrarás en el este link. La información que deberás sacar es:\n",
    "\n",
    "Fecha de la ceremonia.\n",
    "\n",
    "Mejor película.\n",
    "\n",
    "Mejor director.\n",
    "\n",
    "Mejor actor.\n",
    "\n",
    "Mejor actriz.\n",
    "\n",
    "NOTA: La información de la API deberá ser almacenada en una lista de tuplas. Cada tupla corresponderá a una película. Siguiendo el siguiente ejemplo:\n",
    "\n",
    "  [(1990, 'Driving Miss Daisy', 'O. Stone', \"D. Day-Lewis\",' J. Tandy' ),  ...]"
   ]
  },
  {
   "cell_type": "code",
   "execution_count": null,
   "metadata": {},
   "outputs": [],
   "source": [
    "# antes de empezar importamos las librerías que vamos a usar. \n",
    "# Importar librerías para web scraping y manipulación de datos\n",
    "# -----------------------------------------------------------------------\n",
    "from bs4 import BeautifulSoup\n",
    "import requests\n",
    "\n",
    "# Importar librerías para manipulación y análisis de datos\n",
    "# -----------------------------------------------------------------------\n",
    "import pandas as pd\n",
    "\n",
    "# Importar librerías para procesamiento de texto\n",
    "# -----------------------------------------------------------------------\n",
    "import re\n",
    "\n",
    "pd.set_option('display.max_columns', None)\n",
    "pd.set_option('display.max_rows', None) # para poder visualizar todas las columnas de los DataFrames"
   ]
  },
  {
   "cell_type": "code",
   "execution_count": null,
   "metadata": {},
   "outputs": [],
   "source": [
    "url_oscars='https://es.wikipedia.org/wiki/Premios_Óscar'\n",
    "res_oscars=requests.get(url_oscars)\n",
    "res_oscars.status_code"
   ]
  },
  {
   "cell_type": "code",
   "execution_count": null,
   "metadata": {},
   "outputs": [],
   "source": [
    "#Lista para el dataframe\n",
    "lista_oscars = []\n",
    "sopa_oscars=BeautifulSoup(res_oscars.content,'html.parser')\n",
    "tabla=sopa_oscars.find_all('table')\n",
    "#Había varias tablas y comprobamos que la nuestra era la 2\n",
    "nuestra_tabla=tabla[2]\n",
    "#Sacamos todos los datos de las tablas\n",
    "datos_oscars=nuestra_tabla.find_all('tr')\n",
    "#Usamos el len para comprobar cuantos filas había en la tabla\n",
    "len(datos_oscars)\n",
    "#Limpiamos el text que nos da datos_oscars y cogemos los valores que nos interesen\n",
    "encabezado_oscars=tuple(datos_oscars[0].text.split('\\n')[1::2][1:6])\n",
    "#añadimos los encabezados a la lista_oscars\n",
    "lista_oscars.append(encabezado_oscars)\n",
    "#Cogemos del 62 en adelante porque solo queríamos de 1990 hasta el año pasado\n",
    "filas_oscars=datos_oscars[62:]\n",
    "\n",
    "for oscar in filas_oscars:\n",
    "    #Igual que en los encabezados, pero aún no lo convertimos a lista\n",
    "    datos_texto_oscars=oscar.text.split('\\n')[1::2][1:6]\n",
    "    #Para limpiar la info de la fecha porque sólo quiero el año usamos regex.\n",
    "    regex=datos_texto_oscars[0]\n",
    "    regex_datos_oscar=re.findall('\\d{4}',regex)\n",
    "    #Sustituimos la fecha antigua por la nueva\n",
    "    datos_texto_oscars[0]=regex_datos_oscar[0]\n",
    "    #tupla\n",
    "    filas_tuplas=tuple(datos_texto_oscars)\n",
    "    #añadimos las filas a la lista\n",
    "    lista_oscars.append(filas_tuplas)\n",
    "\n",
    "lista_oscars\n",
    "#Creamoss el data frame\n",
    "df_oscars=pd.DataFrame(lista_oscars[1:])\n",
    "df_oscars.columns=lista_oscars[0]\n",
    "df_oscars"
   ]
  }
 ],
 "metadata": {
  "kernelspec": {
   "display_name": "base",
   "language": "python",
   "name": "python3"
  },
  "language_info": {
   "codemirror_mode": {
    "name": "ipython",
    "version": 3
   },
   "file_extension": ".py",
   "mimetype": "text/x-python",
   "name": "python",
   "nbconvert_exporter": "python",
   "pygments_lexer": "ipython3",
   "version": "3.10.9"
  }
 },
 "nbformat": 4,
 "nbformat_minor": 2
}
