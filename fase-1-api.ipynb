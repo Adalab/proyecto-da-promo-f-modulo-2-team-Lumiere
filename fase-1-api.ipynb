{
 "cells": [
  {
   "cell_type": "code",
   "execution_count": null,
   "metadata": {},
   "outputs": [],
   "source": [
    "import requests\n",
    "import pandas as pd\n"
   ]
  },
  {
   "cell_type": "code",
   "execution_count": null,
   "metadata": {},
   "outputs": [],
   "source": [
    "def buscar_genero (patatas):\n",
    "\turl = \"https://moviesdatabase.p.rapidapi.com/titles\"\n",
    "\n",
    "\tquerystring = {\"genre\": patatas,\"startYear\":\"1990\",\"endYear\":\"2022\",\"limit\":\"50\"}\n",
    "\n",
    "\theaders = {\n",
    "\t\t\"X-RapidAPI-Key\": \"54f52b092fmshe9176ee1f1e6702p11a2ecjsn1dcd3a220995\",\n",
    "\t\t\"X-RapidAPI-Host\": \"moviesdatabase.p.rapidapi.com\"\n",
    "\t}\n",
    "\n",
    "\tresponse = requests.get(url, headers=headers, params=querystring)\n",
    "\n",
    "\treturn response.json()"
   ]
  },
  {
   "cell_type": "code",
   "execution_count": null,
   "metadata": {},
   "outputs": [],
   "source": [
    "lista_generos=['Drama','Comedy',' Action', 'Fantasy', 'Horror', 'Mystery', 'Romance', 'Thriller','Animation']\n",
    "lista_completa_pelis=[]\n",
    "for genero in lista_generos:\n",
    "    info_pelis=buscar_genero(genero)\n",
    "    for dato_results in info_pelis['results']:\n",
    "        lista_peli=[]\n",
    "        tipo=dato_results[\"titleType\"][\"text\"]\n",
    "        titulo=dato_results[\"primaryImage\"][\"caption\"][\"plainText\"]\n",
    "        año=dato_results[\"releaseDate\"][\"year\"]\n",
    "        mes=dato_results[\"releaseDate\"][\"month\"]\n",
    "        id_peli=dato_results['id']\n",
    "        lista_peli.append(genero)\n",
    "        lista_peli.append(tipo) #Solo Movie y Short, el resto hay que quitarlos con un if\n",
    "        lista_peli.append(titulo)\n",
    "        lista_peli.append(año)\n",
    "        lista_peli.append(mes)\n",
    "        lista_peli.append(id_peli)\n",
    "        lista_completa_pelis.append(tuple(lista_peli))\n",
    "        print(lista_peli)\n",
    "\n"
   ]
  },
  {
   "cell_type": "code",
   "execution_count": null,
   "metadata": {},
   "outputs": [],
   "source": [
    "df_pelis=pd.DataFrame(lista_completa_pelis)\n",
    "df_pelis"
   ]
  },
  {
   "cell_type": "code",
   "execution_count": null,
   "metadata": {},
   "outputs": [],
   "source": [
    "\n",
    "url = \"https://moviesdatabase.p.rapidapi.com/titles\"\n",
    "\n",
    "querystring = {\"genre\":\"Drama\",\"startYear\":\"1990\",\"endYear\":\"2022\",\"limit\":\"50\"}\n",
    "\n",
    "headers = {\n",
    "\t\"X-RapidAPI-Key\": \"54f52b092fmshe9176ee1f1e6702p11a2ecjsn1dcd3a220995\",\n",
    "\t\"X-RapidAPI-Host\": \"moviesdatabase.p.rapidapi.com\"\n",
    "}\n",
    "\n",
    "response = requests.get(url, headers=headers, params=querystring)\n",
    "\n",
    "print(response.json())\n"
   ]
  },
  {
   "cell_type": "markdown",
   "metadata": {},
   "source": [
    "De cada una de las películas tendreis que sacar la siguiente información:\n",
    "\n",
    "- Tipo (si es corto o película).\n",
    "- Nombre de la película o el corto.\n",
    "- Año de estreno de la película o corto.\n",
    "- Mes de estreno de la película o corto.\n",
    "- Id de la película."
   ]
  },
  {
   "cell_type": "code",
   "execution_count": null,
   "metadata": {},
   "outputs": [],
   "source": [
    "response.status_code\n",
    "\n",
    "info_pelis = (response.json())\n",
    "\n",
    "resultados = info_pelis[\"results\"][0].keys()\n",
    "\n",
    "print(resultados)"
   ]
  },
  {
   "cell_type": "code",
   "execution_count": null,
   "metadata": {},
   "outputs": [],
   "source": [
    "tipo = info_pelis[\"results\"][0][\"titleType\"][\"text\"]\n",
    "\n",
    "print(tipo)\n"
   ]
  },
  {
   "cell_type": "code",
   "execution_count": null,
   "metadata": {},
   "outputs": [],
   "source": [
    "titulo = info_pelis[\"results\"][0][\"primaryImage\"][\"caption\"][\"plainText\"]\n",
    "\n",
    "titulo"
   ]
  },
  {
   "cell_type": "code",
   "execution_count": null,
   "metadata": {},
   "outputs": [],
   "source": [
    "año = info_pelis[\"results\"][0][\"releaseDate\"][\"year\"]\n",
    "año"
   ]
  },
  {
   "cell_type": "code",
   "execution_count": null,
   "metadata": {},
   "outputs": [],
   "source": [
    "mes = info_pelis[\"results\"][0][\"releaseDate\"][\"month\"]\n",
    "mes"
   ]
  },
  {
   "cell_type": "code",
   "execution_count": null,
   "metadata": {},
   "outputs": [],
   "source": [
    "id_peli = info_pelis[\"results\"][0][\"id\"]\n",
    "id_peli"
   ]
  },
  {
   "cell_type": "code",
   "execution_count": null,
   "metadata": {},
   "outputs": [],
   "source": [
    "todas_pelis = info_pelis[\"results\"]\n",
    "\n",
    "todas_pelis"
   ]
  }
 ],
 "metadata": {
  "kernelspec": {
   "display_name": "base",
   "language": "python",
   "name": "python3"
  },
  "language_info": {
   "codemirror_mode": {
    "name": "ipython",
    "version": 3
   },
   "file_extension": ".py",
   "mimetype": "text/x-python",
   "name": "python",
   "nbconvert_exporter": "python",
   "pygments_lexer": "ipython3",
   "version": "3.10.9"
  }
 },
 "nbformat": 4,
 "nbformat_minor": 2
}
