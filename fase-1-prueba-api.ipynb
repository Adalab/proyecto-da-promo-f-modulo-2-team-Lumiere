{
 "cells": [
  {
   "cell_type": "code",
   "execution_count": 6,
   "metadata": {},
   "outputs": [],
   "source": [
    "import requests\n",
    "import pandas as pd\n"
   ]
  },
  {
   "cell_type": "code",
   "execution_count": 8,
   "metadata": {},
   "outputs": [],
   "source": [
    "def buscar_genero (peliculas, year, page):\n",
    "\turl = \"https://moviesdatabase.p.rapidapi.com/titles\"\n",
    "\n",
    "\tquerystring = {\"genre\": peliculas,\"Year\": year,\"limit\":\"50\",\"page\": page}\n",
    "\n",
    "\theaders = {\n",
    "\t\t\"X-RapidAPI-Key\": \"54f52b092fmshe9176ee1f1e6702p11a2ecjsn1dcd3a220995\",\n",
    "\t\t\"X-RapidAPI-Host\": \"moviesdatabase.p.rapidapi.com\"\n",
    "\t}\n",
    "\n",
    "\tresponse = requests.get(url, headers=headers, params=querystring)\n",
    "\n",
    "\treturn response.json()"
   ]
  },
  {
   "cell_type": "code",
   "execution_count": 9,
   "metadata": {},
   "outputs": [
    {
     "ename": "NameError",
     "evalue": "name 'peliculas' is not defined",
     "output_type": "error",
     "traceback": [
      "\u001b[0;31m---------------------------------------------------------------------------\u001b[0m",
      "\u001b[0;31mNameError\u001b[0m                                 Traceback (most recent call last)",
      "\u001b[0;32m/tmp/ipykernel_1963/1847317953.py\u001b[0m in \u001b[0;36m<module>\u001b[0;34m\u001b[0m\n\u001b[1;32m      5\u001b[0m \u001b[0;34m\u001b[0m\u001b[0m\n\u001b[1;32m      6\u001b[0m     \u001b[0;32mfor\u001b[0m \u001b[0mpage\u001b[0m \u001b[0;32min\u001b[0m \u001b[0mrange\u001b[0m\u001b[0;34m(\u001b[0m\u001b[0;36m1\u001b[0m\u001b[0;34m,\u001b[0m \u001b[0;36m100\u001b[0m\u001b[0;34m)\u001b[0m\u001b[0;34m:\u001b[0m  \u001b[0;31m#Hacemos un for para que vaya pasando de la página 1, hasta la página 100\u001b[0m\u001b[0;34m\u001b[0m\u001b[0;34m\u001b[0m\u001b[0m\n\u001b[0;32m----> 7\u001b[0;31m         \u001b[0minfo_pelis\u001b[0m \u001b[0;34m=\u001b[0m \u001b[0mbuscar_genero\u001b[0m\u001b[0;34m(\u001b[0m\u001b[0mpeliculas\u001b[0m\u001b[0;34m)\u001b[0m \u001b[0;31m#Definimos una variable para llamar a la función de apis pelis\u001b[0m\u001b[0;34m\u001b[0m\u001b[0;34m\u001b[0m\u001b[0m\n\u001b[0m\u001b[1;32m      8\u001b[0m \u001b[0;34m\u001b[0m\u001b[0m\n\u001b[1;32m      9\u001b[0m         \u001b[0;32mfor\u001b[0m \u001b[0mdato_results\u001b[0m \u001b[0;32min\u001b[0m \u001b[0minfo_pelis\u001b[0m\u001b[0;34m[\u001b[0m\u001b[0;34m'results'\u001b[0m\u001b[0;34m]\u001b[0m\u001b[0;34m:\u001b[0m \u001b[0;31m#iteramos en la lista de películas de la función\u001b[0m\u001b[0;34m\u001b[0m\u001b[0;34m\u001b[0m\u001b[0m\n",
      "\u001b[0;31mNameError\u001b[0m: name 'peliculas' is not defined"
     ]
    }
   ],
   "source": [
    "\n",
    "\n",
    "#Definimos la lista lista peli anual para hacer la lista de un ano completo por género\n",
    "\n",
    "lista_pelis_anual = []\n",
    "try:\n",
    "    \n",
    "    for page in range(1, 100):  #Hacemos un for para que vaya pasando de la página 1, hasta la página 100\n",
    "        info_pelis = buscar_genero(peliculas) #Definimos una variable para llamar a la función de apis pelis\n",
    "        \n",
    "        for dato_results in info_pelis['results']: #iteramos en la lista de películas de la función\n",
    "            lista_peli = [] #Creamos lista donde meter los datos\n",
    "            tipo = dato_results[\"titleType\"][\"text\"] #Sacamos el tipo de de peli (movie o short)\n",
    "            \n",
    "            if tipo == \"Movie\" or tipo == \"Short\": #acotamos lo anterior para que los resultados sean sólo movie o short\n",
    "                titulo = dato_results[\"primaryImage\"][\"caption\"][\"plainText\"]#Sacamos el título de la peli\n",
    "                año = dato_results[\"releaseDate\"][\"year\"]#Sacamos el ano de la pelo\n",
    "                try:\n",
    "                    mes = dato_results[\"releaseDate\"][\"month\"]#Sacamos el mes de la peli\n",
    "                except TypeError:\n",
    "                    mes = \"none\"\n",
    "                    \n",
    "                id_peli = dato_results['id']#Sacamos el id de la peli  \n",
    "                #appendeamos todo el la lista peli\n",
    "                lista_peli.append(genero) \n",
    "                lista_peli.append(tipo) #Solo Movie y Short, el resto hay que quitarlos con un if\n",
    "                lista_peli.append(titulo)\n",
    "                lista_peli.append(año)\n",
    "                lista_peli.append(mes)\n",
    "                lista_peli.append(id_peli)\n",
    "                \n",
    "                if lista_peli not in lista_pelis_anual:\n",
    "                    lista_pelis_anual.append(tuple(lista_peli))\n",
    "                else:\n",
    "                    pass\n",
    "            \n",
    "            else: \n",
    "                pass\n",
    "            \n",
    "except ConnectionError:\n",
    "    pass\n"
   ]
  },
  {
   "cell_type": "code",
   "execution_count": null,
   "metadata": {},
   "outputs": [],
   "source": [
    "\n",
    "drama_1990 = buscar_peli(\"Drama\", \"1990\")"
   ]
  },
  {
   "cell_type": "code",
   "execution_count": null,
   "metadata": {},
   "outputs": [],
   "source": [
    "#df_pelis.to_excel(\"nombre_excel.xlsx\")\n",
    "df_pelis = pd.DataFrame(lista_pelis_anual)\n",
    "df_pelis"
   ]
  },
  {
   "cell_type": "code",
   "execution_count": null,
   "metadata": {},
   "outputs": [],
   "source": [
    "\n",
    "url = \"https://moviesdatabase.p.rapidapi.com/titles\"\n",
    "\n",
    "querystring = {\"genre\":\"Drama\",\"startYear\":\"1990\",\"endYear\":\"2022\",\"limit\":\"50\"}\n",
    "\n",
    "headers = {\n",
    "\t\"X-RapidAPI-Key\": \"54f52b092fmshe9176ee1f1e6702p11a2ecjsn1dcd3a220995\",\n",
    "\t\"X-RapidAPI-Host\": \"moviesdatabase.p.rapidapi.com\"\n",
    "}\n",
    "\n",
    "response = requests.get(url, headers=headers, params=querystring)\n",
    "\n",
    "print(response.json())\n"
   ]
  },
  {
   "cell_type": "markdown",
   "metadata": {},
   "source": [
    "De cada una de las películas tendreis que sacar la siguiente información:\n",
    "\n",
    "- Tipo (si es corto o película).\n",
    "- Nombre de la película o el corto.\n",
    "- Año de estreno de la película o corto.\n",
    "- Mes de estreno de la película o corto.\n",
    "- Id de la película."
   ]
  },
  {
   "cell_type": "code",
   "execution_count": null,
   "metadata": {},
   "outputs": [],
   "source": [
    "response.status_code\n",
    "\n",
    "info_pelis = (response.json())\n",
    "\n",
    "resultados = info_pelis[\"results\"][0].keys()\n",
    "\n",
    "print(resultados)"
   ]
  },
  {
   "cell_type": "code",
   "execution_count": null,
   "metadata": {},
   "outputs": [],
   "source": [
    "tipo = info_pelis[\"results\"][0][\"titleType\"][\"text\"]\n",
    "\n",
    "print(tipo)\n"
   ]
  },
  {
   "cell_type": "code",
   "execution_count": 1,
   "metadata": {},
   "outputs": [
    {
     "ename": "NameError",
     "evalue": "name 'info_pelis' is not defined",
     "output_type": "error",
     "traceback": [
      "\u001b[0;31m---------------------------------------------------------------------------\u001b[0m",
      "\u001b[0;31mNameError\u001b[0m                                 Traceback (most recent call last)",
      "\u001b[0;32m/tmp/ipykernel_1963/1987814446.py\u001b[0m in \u001b[0;36m<module>\u001b[0;34m\u001b[0m\n\u001b[0;32m----> 1\u001b[0;31m \u001b[0mtitulo\u001b[0m \u001b[0;34m=\u001b[0m \u001b[0minfo_pelis\u001b[0m\u001b[0;34m[\u001b[0m\u001b[0;34m\"results\"\u001b[0m\u001b[0;34m]\u001b[0m\u001b[0;34m[\u001b[0m\u001b[0;36m0\u001b[0m\u001b[0;34m]\u001b[0m\u001b[0;34m[\u001b[0m\u001b[0;34m\"primaryImage\"\u001b[0m\u001b[0;34m]\u001b[0m\u001b[0;34m[\u001b[0m\u001b[0;34m\"caption\"\u001b[0m\u001b[0;34m]\u001b[0m\u001b[0;34m[\u001b[0m\u001b[0;34m\"plainText\"\u001b[0m\u001b[0;34m]\u001b[0m\u001b[0;34m\u001b[0m\u001b[0;34m\u001b[0m\u001b[0m\n\u001b[0m\u001b[1;32m      2\u001b[0m \u001b[0;34m\u001b[0m\u001b[0m\n\u001b[1;32m      3\u001b[0m \u001b[0mtitulo\u001b[0m\u001b[0;34m\u001b[0m\u001b[0;34m\u001b[0m\u001b[0m\n",
      "\u001b[0;31mNameError\u001b[0m: name 'info_pelis' is not defined"
     ]
    }
   ],
   "source": [
    "titulo = info_pelis[\"results\"][0][\"primaryImage\"][\"caption\"][\"plainText\"]\n",
    "\n",
    "titulo"
   ]
  },
  {
   "cell_type": "code",
   "execution_count": 3,
   "metadata": {},
   "outputs": [
    {
     "ename": "NameError",
     "evalue": "name 'info_pelis' is not defined",
     "output_type": "error",
     "traceback": [
      "\u001b[0;31m---------------------------------------------------------------------------\u001b[0m",
      "\u001b[0;31mNameError\u001b[0m                                 Traceback (most recent call last)",
      "\u001b[0;32m/tmp/ipykernel_1963/101080788.py\u001b[0m in \u001b[0;36m<module>\u001b[0;34m\u001b[0m\n\u001b[0;32m----> 1\u001b[0;31m \u001b[0maño\u001b[0m \u001b[0;34m=\u001b[0m \u001b[0minfo_pelis\u001b[0m\u001b[0;34m[\u001b[0m\u001b[0;34m\"results\"\u001b[0m\u001b[0;34m]\u001b[0m\u001b[0;34m[\u001b[0m\u001b[0;36m0\u001b[0m\u001b[0;34m]\u001b[0m\u001b[0;34m[\u001b[0m\u001b[0;34m\"releaseDate\"\u001b[0m\u001b[0;34m]\u001b[0m\u001b[0;34m[\u001b[0m\u001b[0;34m\"year\"\u001b[0m\u001b[0;34m]\u001b[0m\u001b[0;34m\u001b[0m\u001b[0;34m\u001b[0m\u001b[0m\n\u001b[0m\u001b[1;32m      2\u001b[0m \u001b[0maño\u001b[0m\u001b[0;34m\u001b[0m\u001b[0;34m\u001b[0m\u001b[0m\n",
      "\u001b[0;31mNameError\u001b[0m: name 'info_pelis' is not defined"
     ]
    }
   ],
   "source": [
    "año = info_pelis[\"results\"][0][\"releaseDate\"][\"year\"]\n",
    "año"
   ]
  },
  {
   "cell_type": "code",
   "execution_count": null,
   "metadata": {},
   "outputs": [],
   "source": [
    "mes = info_pelis[\"results\"][0][\"releaseDate\"][\"month\"]\n",
    "mes"
   ]
  },
  {
   "cell_type": "code",
   "execution_count": null,
   "metadata": {},
   "outputs": [],
   "source": [
    "id_peli = info_pelis[\"results\"][0][\"id\"]\n",
    "id_peli"
   ]
  },
  {
   "cell_type": "code",
   "execution_count": null,
   "metadata": {},
   "outputs": [],
   "source": [
    "todas_pelis = info_pelis[\"results\"]\n",
    "\n",
    "todas_pelis"
   ]
  }
 ],
 "metadata": {
  "kernelspec": {
   "display_name": "base",
   "language": "python",
   "name": "python3"
  },
  "language_info": {
   "codemirror_mode": {
    "name": "ipython",
    "version": 3
   },
   "file_extension": ".py",
   "mimetype": "text/x-python",
   "name": "python",
   "nbconvert_exporter": "python",
   "pygments_lexer": "ipython3",
   "version": "3.9.7"
  }
 },
 "nbformat": 4,
 "nbformat_minor": 2
}
